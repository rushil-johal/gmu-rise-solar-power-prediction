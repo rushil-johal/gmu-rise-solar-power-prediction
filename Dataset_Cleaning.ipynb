{
 "cells": [
  {
   "cell_type": "markdown",
   "metadata": {
    "tags": []
   },
   "source": [
    "# Data Preprocessing & Splitting"
   ]
  },
  {
   "cell_type": "markdown",
   "metadata": {},
   "source": [
    "## Imported Packages"
   ]
  },
  {
   "cell_type": "code",
   "execution_count": 1,
   "metadata": {
    "tags": []
   },
   "outputs": [],
   "source": [
    "import pandas as pd"
   ]
  },
  {
   "cell_type": "markdown",
   "metadata": {
    "tags": []
   },
   "source": [
    "## Final Dataset Information"
   ]
  },
  {
   "cell_type": "markdown",
   "metadata": {
    "tags": []
   },
   "source": [
    "Timeline:\n",
    "- Start Date:2017-01-01 00:00:00 UTC\n",
    "- End Date: 2017-12-31 23:58:00 UTC\n",
    "\n",
    "Location:\n",
    "- Residential Rooftop PV Solar Panel in Utrecht, Netherlands\n",
    "- Coordinates: (52.07, 5.13)\n",
    "\n",
    "Time Resolutions: 5 mins and 30 mins\n",
    "\n",
    "Missing Values Percentage: \n",
    "- 30 mins: 802/17520 ≈ 4.58%\n",
    "- 5 mins: 4850/105120 ≈ 4.61%\n",
    "\n",
    "Constants:\n",
    "- Azimuth: 180 (degrees) \n",
    "- Tilt: 15 (degrees)\n",
    "- Max AC Capacity: 2413\n",
    "- Max DC Capacity: 2500\n",
    "\n",
    "Important Notes: \n",
    "- For the data of time stamp and PV Power variables, I used https://zenodo.org/records/10953360 to download 'unfiltered_pv_power_measurements.csv' under Version v2, picking ID005 from all the 175 PV systems in the Netherlands due to having no missing values between 1/1/2017 and 12/31/2017. I found this dataset from this Literature Review (https://ieeexplore.ieee.org/document/10107594), I also use to guide me through the forecasting/predictive modeling process.\n",
    "- Negative PV power readings on a solar panel on the dataset are normal as the panel is generating more power than it's consuming, which  only occurs at night (when irradiance is 0). Furthermore, the negative readings are miniscule (very close to 0) with all values equal or greater to -0.50.\n",
    "- For the data of all weather variables (all variables below excluding Time and PV Power), I used https://toolkit.solcast.com.au/ to download them for free with time resolutions of 5 and 30 mins with the coordinates of (52.07, 5.13) between 1/1/2017 and 12/31/2017."
   ]
  },
  {
   "cell_type": "markdown",
   "metadata": {
    "tags": []
   },
   "source": [
    "## 8 Variables"
   ]
  },
  {
   "cell_type": "markdown",
   "metadata": {
    "tags": []
   },
   "source": [
    "Working with 5 and 30 minute resolutions with the start time of \"6/1/17 0:00\" and end time of \"6/30/17 23:55\", there are 8 variables we will explore analyze their relationships. They are below, their definitions, and units:\n",
    "\n",
    "- Time Stamps (UTC): format='%m/%d/%y %H:%M'\n",
    "- PV Power Outputs of Residential of a Single Rooftop Solar Panels (watts)\n",
    "- Ambient Temperature (°C)\n",
    "- Wind Speed at 10 m above MSL (m/s)\n",
    "- Wind Direction at 10 m above MSL (degrees)\n",
    "- Direct Normal Irradiance (DNI): the component that is involved in thermal (concentrating solar power, CSP) and photovoltaic concentration technology (concentrated photovoltaic, CPV).\n",
    "- Global Horizontal Irradiance (GHI): the sum of direct and diffuse radiation received on a horizontal plane. GHI is a reference radiation for the comparison of climatic zones; it is also essential parameter for calculation of radiation on a tilted plane.\n",
    "- Global Tilt Irradiance (GTI): total radiation received on a surface with defined tilt and azimuth, fixed or sun-tracking. This is the sum of the scattered radiation, direct and reflected. It is a reference for photovoltaic (PV) applications, and can be occasionally affected by shadow."
   ]
  },
  {
   "cell_type": "markdown",
   "metadata": {
    "tags": []
   },
   "source": [
    "---"
   ]
  },
  {
   "cell_type": "markdown",
   "metadata": {
    "tags": []
   },
   "source": [
    "## Splitting Unfilitered (Raw) PV Power Dataset"
   ]
  },
  {
   "cell_type": "markdown",
   "metadata": {
    "tags": []
   },
   "source": [
    "### 1 Min Resolutions to 30 Min Resolutions"
   ]
  },
  {
   "cell_type": "code",
   "execution_count": 2,
   "metadata": {
    "tags": []
   },
   "outputs": [
    {
     "name": "stdout",
     "output_type": "stream",
     "text": [
      "Filtered data saved to 'Filtered_PV_POWER_30.csv'\n"
     ]
    }
   ],
   "source": [
    "# Load the dataset\n",
    "data = pd.read_csv(\"./RAW_PV_POWER.csv\")\n",
    "\n",
    "# Convert the 'DateTime' column to datetime format\n",
    "data['DateTime'] = pd.to_datetime(data['DateTime'], format='%Y-%m-%d %H:%M:%S UTC')\n",
    "\n",
    "# Filter the rows with increments of exactly 30 minutes\n",
    "filtered_data = data[data['DateTime'].dt.minute % 30 == 0]\n",
    "\n",
    "# Display the first few rows of the filtered dataset to confirm\n",
    "filtered_data.head()\n",
    "\n",
    "# Save the filtered dataset to a new CSV file\n",
    "filtered_data.to_csv(\"./Filtered_PV_POWER.csv\", index=False)\n",
    "\n",
    "print(\"Filtered data saved to 'Filtered_PV_POWER_30.csv'\")"
   ]
  },
  {
   "cell_type": "markdown",
   "metadata": {
    "tags": []
   },
   "source": [
    "### 1 Min Resolutions to 5 Min Resolutions"
   ]
  },
  {
   "cell_type": "code",
   "execution_count": 3,
   "metadata": {
    "tags": []
   },
   "outputs": [
    {
     "name": "stdout",
     "output_type": "stream",
     "text": [
      "              DateTime     ID005\n",
      "0  2017-01-01 00:00:00 -0.425226\n",
      "5  2017-01-01 00:05:00 -0.641800\n",
      "10 2017-01-01 00:10:00 -0.621484\n",
      "15 2017-01-01 00:15:00 -0.489517\n",
      "20 2017-01-01 00:20:00 -0.540800\n"
     ]
    }
   ],
   "source": [
    "# Load the dataset\n",
    "data = pd.read_csv(\"./RAW_PV_POWER.csv\")\n",
    "\n",
    "# Convert the 'DateTime' column to datetime format\n",
    "data['DateTime'] = pd.to_datetime(data['DateTime'], format='%Y-%m-%d %H:%M:%S UTC')\n",
    "\n",
    "# Filter the rows with increments of exactly 5 minutes\n",
    "filtered_data = data[data['DateTime'].dt.minute % 5 == 0]\n",
    "\n",
    "# Display the first few rows of the filtered dataset to confirm\n",
    "print(filtered_data.head())\n",
    "\n",
    "# Save the filtered dataset to a new CSV file\n",
    "filtered_data.to_csv(\"./Filtered_PV_Power_Data_5min.csv\", index=False)"
   ]
  },
  {
   "cell_type": "markdown",
   "metadata": {},
   "source": [
    "---"
   ]
  },
  {
   "cell_type": "markdown",
   "metadata": {},
   "source": [
    "## Compiling weather and filtered PV power Datasets into a 5 and 30 min resolution datasets"
   ]
  },
  {
   "cell_type": "markdown",
   "metadata": {},
   "source": [
    "No programming is necessary to do this step. I created a new Excel file, copying and pasting the variable columns from the filtered PV power and weather dataset for 5 minutes to create only one dataset. I downloaded the dataset as a .csv file and uploaded it to JupyterLab. For the 30-minute resolution, I did the exact process as above but only worked with the 30-minute datasets for the PV power and weather."
   ]
  }
 ],
 "metadata": {
  "kernelspec": {
   "display_name": "Python 3 (ipykernel)",
   "language": "python",
   "name": "python3"
  },
  "language_info": {
   "codemirror_mode": {
    "name": "ipython",
    "version": 3
   },
   "file_extension": ".py",
   "mimetype": "text/x-python",
   "name": "python",
   "nbconvert_exporter": "python",
   "pygments_lexer": "ipython3",
   "version": "3.11.5"
  }
 },
 "nbformat": 4,
 "nbformat_minor": 4
}
